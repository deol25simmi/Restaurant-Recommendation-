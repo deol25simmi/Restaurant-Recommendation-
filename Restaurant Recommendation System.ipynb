{
 "cells": [
  {
   "cell_type": "markdown",
   "id": "b43fd7b7",
   "metadata": {},
   "source": [
    "# Importing Libraries"
   ]
  },
  {
   "cell_type": "code",
   "execution_count": 118,
   "id": "f1b28630",
   "metadata": {},
   "outputs": [],
   "source": [
    "import numpy as np\n",
    "import pandas as pd\n",
    "from sklearn.linear_model import LogisticRegression\n",
    "from sklearn.linear_model import LinearRegression\n",
    "from sklearn.model_selection import train_test_split\n",
    "from sklearn.metrics import classification_report\n",
    "from sklearn.metrics import confusion_matrix\n",
    "from sklearn.metrics import r2_score\n",
    "import re\n",
    "from nltk.corpus import stopwords\n",
    "from sklearn.metrics.pairwise import linear_kernel\n",
    "from sklearn.feature_extraction.text import CountVectorizer\n",
    "from sklearn.feature_extraction.text import TfidfVectorizer\n",
    "import warnings\n",
    "warnings.filterwarnings('always')\n",
    "warnings.filterwarnings('ignore')"
   ]
  },
  {
   "cell_type": "markdown",
   "id": "b3ba07e5",
   "metadata": {},
   "source": [
    "# Loading and Reading Data"
   ]
  },
  {
   "cell_type": "code",
   "execution_count": 119,
   "id": "7e215984",
   "metadata": {},
   "outputs": [],
   "source": [
    "zomato_pune=pd.read_csv(\"Pune Restaurants.csv\")\n"
   ]
  },
  {
   "cell_type": "code",
   "execution_count": 120,
   "id": "5f1763e2",
   "metadata": {},
   "outputs": [
    {
     "name": "stdout",
     "output_type": "stream",
     "text": [
      "<class 'pandas.core.frame.DataFrame'>\n",
      "RangeIndex: 4797 entries, 0 to 4796\n",
      "Data columns (total 15 columns):\n",
      " #   Column                 Non-Null Count  Dtype  \n",
      "---  ------                 --------------  -----  \n",
      " 0   Restaurant_Name        4797 non-null   object \n",
      " 1   Category               4797 non-null   object \n",
      " 2   Pricing_for_2          4797 non-null   int64  \n",
      " 3   Locality               4797 non-null   object \n",
      " 4   Dining_Rating          4797 non-null   float64\n",
      " 5   Dining_Review_Count    4797 non-null   int64  \n",
      " 6   Delivery_Rating        3226 non-null   float64\n",
      " 7   Delivery_Rating_Count  4797 non-null   int64  \n",
      " 8   Website                4797 non-null   object \n",
      " 9   Address                4797 non-null   object \n",
      " 10  Phone_No               4797 non-null   object \n",
      " 11  Latitude               4797 non-null   float64\n",
      " 12  Longitude              4797 non-null   float64\n",
      " 13  Known_for1             4155 non-null   object \n",
      " 14  Known_for2             1078 non-null   object \n",
      "dtypes: float64(4), int64(3), object(8)\n",
      "memory usage: 562.3+ KB\n"
     ]
    }
   ],
   "source": [
    "zomato_pune.info()"
   ]
  },
  {
   "cell_type": "markdown",
   "id": "65ca0f5e",
   "metadata": {},
   "source": [
    "# Data Cleaning"
   ]
  },
  {
   "cell_type": "code",
   "execution_count": 121,
   "id": "e70f2651",
   "metadata": {},
   "outputs": [],
   "source": [
    "zomato_data =zomato_pune.drop(['Website','Latitude','Longitude','Phone_No','Known_for2','Address','Delivery_Rating','Delivery_Rating_Count','Category'],axis=1)"
   ]
  },
  {
   "cell_type": "code",
   "execution_count": 122,
   "id": "2bed4bc9",
   "metadata": {},
   "outputs": [
    {
     "data": {
      "text/html": [
       "<div>\n",
       "<style scoped>\n",
       "    .dataframe tbody tr th:only-of-type {\n",
       "        vertical-align: middle;\n",
       "    }\n",
       "\n",
       "    .dataframe tbody tr th {\n",
       "        vertical-align: top;\n",
       "    }\n",
       "\n",
       "    .dataframe thead th {\n",
       "        text-align: right;\n",
       "    }\n",
       "</style>\n",
       "<table border=\"1\" class=\"dataframe\">\n",
       "  <thead>\n",
       "    <tr style=\"text-align: right;\">\n",
       "      <th></th>\n",
       "      <th>Restaurant_Name</th>\n",
       "      <th>Category</th>\n",
       "      <th>Pricing_for_2</th>\n",
       "      <th>Locality</th>\n",
       "      <th>Dining_Rating</th>\n",
       "      <th>Dining_Review_Count</th>\n",
       "      <th>Delivery_Rating</th>\n",
       "      <th>Delivery_Rating_Count</th>\n",
       "      <th>Website</th>\n",
       "      <th>Address</th>\n",
       "      <th>Phone_No</th>\n",
       "      <th>Latitude</th>\n",
       "      <th>Longitude</th>\n",
       "      <th>Known_for1</th>\n",
       "      <th>Known_for2</th>\n",
       "    </tr>\n",
       "  </thead>\n",
       "  <tbody>\n",
       "    <tr>\n",
       "      <th>0</th>\n",
       "      <td>Santè Spa Cuisine</td>\n",
       "      <td>Continental, Healthy Food, Mediterranean</td>\n",
       "      <td>1200</td>\n",
       "      <td>Koregaon Park, Pune</td>\n",
       "      <td>4.9</td>\n",
       "      <td>1469</td>\n",
       "      <td>3.9</td>\n",
       "      <td>588</td>\n",
       "      <td>https://www.zomato.com/pune/santè-spa-cuisine-...</td>\n",
       "      <td>Lane 1, Near Sunderban Resorts, Koregaon Park,...</td>\n",
       "      <td>9.18E+11</td>\n",
       "      <td>18.537416</td>\n",
       "      <td>73.888890</td>\n",
       "      <td>Bajra Risotto, Spinach Hummus, Whole Wheat Spa...</td>\n",
       "      <td>Nothing to Dislike, Healthy Menu, Healthy Food...</td>\n",
       "    </tr>\n",
       "    <tr>\n",
       "      <th>1</th>\n",
       "      <td>Le Plaisir</td>\n",
       "      <td>Cafe, Italian, Continental, Salad, Sandwich, P...</td>\n",
       "      <td>1000</td>\n",
       "      <td>Deccan Gymkhana, Pune</td>\n",
       "      <td>4.9</td>\n",
       "      <td>4808</td>\n",
       "      <td>4.3</td>\n",
       "      <td>4959</td>\n",
       "      <td>https://www.zomato.com/pune/le-plaisir-deccan-...</td>\n",
       "      <td>Survey 759/125, Rajkamal, Prabhat Road, Opposi...</td>\n",
       "      <td>9.19E+11</td>\n",
       "      <td>18.514254</td>\n",
       "      <td>73.838658</td>\n",
       "      <td>Expresso Panacota, Banana Nutella Crepe, New Y...</td>\n",
       "      <td>Classy Place, Classy Ambience, Perfect Evening...</td>\n",
       "    </tr>\n",
       "    <tr>\n",
       "      <th>2</th>\n",
       "      <td>Gong</td>\n",
       "      <td>Chinese, Sushi, Asian, Momos, Beverages</td>\n",
       "      <td>1700</td>\n",
       "      <td>Balewadi High Street, Baner, Pune</td>\n",
       "      <td>4.9</td>\n",
       "      <td>1788</td>\n",
       "      <td>4.3</td>\n",
       "      <td>1352</td>\n",
       "      <td>https://www.zomato.com/pune/gong-baner</td>\n",
       "      <td>Shop 22/23, Cummins India Office Campus, Balew...</td>\n",
       "      <td>9.19E+11</td>\n",
       "      <td>18.570471</td>\n",
       "      <td>73.774149</td>\n",
       "      <td>Chicken Minestrone Soup, Crab Ravioli, Ebi Tem...</td>\n",
       "      <td>Classy Place, Quality of Food, Amazing Interio...</td>\n",
       "    </tr>\n",
       "    <tr>\n",
       "      <th>3</th>\n",
       "      <td>The French Window Patisserie</td>\n",
       "      <td>Cafe, Desserts, French, Bakery, European</td>\n",
       "      <td>600</td>\n",
       "      <td>Koregaon Park, Pune</td>\n",
       "      <td>4.9</td>\n",
       "      <td>1643</td>\n",
       "      <td>4.4</td>\n",
       "      <td>1208</td>\n",
       "      <td>https://www.zomato.com/pune/the-french-window-...</td>\n",
       "      <td>Lane Number 5, Ganga Fortune Society, Meera Na...</td>\n",
       "      <td>9.20E+11</td>\n",
       "      <td>18.537432</td>\n",
       "      <td>73.897714</td>\n",
       "      <td>Trois Chocolat, Chocolate Flan, Mille Feuille,...</td>\n",
       "      <td>Bookshelf, Beautiful Cafe, Pretty Ambience, Pe...</td>\n",
       "    </tr>\n",
       "    <tr>\n",
       "      <th>4</th>\n",
       "      <td>Savya Rasa</td>\n",
       "      <td>South Indian, Mangalorean, Kerala, Chettinad, ...</td>\n",
       "      <td>2100</td>\n",
       "      <td>Koregaon Park, Pune</td>\n",
       "      <td>4.9</td>\n",
       "      <td>1283</td>\n",
       "      <td>4.3</td>\n",
       "      <td>446</td>\n",
       "      <td>https://www.zomato.com/pune/savya-rasa-koregao...</td>\n",
       "      <td>Flat 2, Survey 479 &amp; 480, Gera Serenity, North...</td>\n",
       "      <td>9.19E+11</td>\n",
       "      <td>18.538862</td>\n",
       "      <td>73.886621</td>\n",
       "      <td>Bun Paratha, Pallipalayam Kozhi, Palm Sugar, V...</td>\n",
       "      <td>Sophisticated, Worth the Price, Warm Ambience,...</td>\n",
       "    </tr>\n",
       "  </tbody>\n",
       "</table>\n",
       "</div>"
      ],
      "text/plain": [
       "                Restaurant_Name  \\\n",
       "0             Santè Spa Cuisine   \n",
       "1                    Le Plaisir   \n",
       "2                          Gong   \n",
       "3  The French Window Patisserie   \n",
       "4                    Savya Rasa   \n",
       "\n",
       "                                            Category  Pricing_for_2  \\\n",
       "0           Continental, Healthy Food, Mediterranean           1200   \n",
       "1  Cafe, Italian, Continental, Salad, Sandwich, P...           1000   \n",
       "2            Chinese, Sushi, Asian, Momos, Beverages           1700   \n",
       "3           Cafe, Desserts, French, Bakery, European            600   \n",
       "4  South Indian, Mangalorean, Kerala, Chettinad, ...           2100   \n",
       "\n",
       "                             Locality  Dining_Rating  Dining_Review_Count  \\\n",
       "0                 Koregaon Park, Pune            4.9                 1469   \n",
       "1               Deccan Gymkhana, Pune            4.9                 4808   \n",
       "2   Balewadi High Street, Baner, Pune            4.9                 1788   \n",
       "3                 Koregaon Park, Pune            4.9                 1643   \n",
       "4                 Koregaon Park, Pune            4.9                 1283   \n",
       "\n",
       "   Delivery_Rating  Delivery_Rating_Count  \\\n",
       "0              3.9                    588   \n",
       "1              4.3                   4959   \n",
       "2              4.3                   1352   \n",
       "3              4.4                   1208   \n",
       "4              4.3                    446   \n",
       "\n",
       "                                             Website  \\\n",
       "0  https://www.zomato.com/pune/santè-spa-cuisine-...   \n",
       "1  https://www.zomato.com/pune/le-plaisir-deccan-...   \n",
       "2             https://www.zomato.com/pune/gong-baner   \n",
       "3  https://www.zomato.com/pune/the-french-window-...   \n",
       "4  https://www.zomato.com/pune/savya-rasa-koregao...   \n",
       "\n",
       "                                             Address  Phone_No   Latitude  \\\n",
       "0  Lane 1, Near Sunderban Resorts, Koregaon Park,...  9.18E+11  18.537416   \n",
       "1  Survey 759/125, Rajkamal, Prabhat Road, Opposi...  9.19E+11  18.514254   \n",
       "2  Shop 22/23, Cummins India Office Campus, Balew...  9.19E+11  18.570471   \n",
       "3  Lane Number 5, Ganga Fortune Society, Meera Na...  9.20E+11  18.537432   \n",
       "4  Flat 2, Survey 479 & 480, Gera Serenity, North...  9.19E+11  18.538862   \n",
       "\n",
       "   Longitude                                         Known_for1  \\\n",
       "0  73.888890  Bajra Risotto, Spinach Hummus, Whole Wheat Spa...   \n",
       "1  73.838658  Expresso Panacota, Banana Nutella Crepe, New Y...   \n",
       "2  73.774149  Chicken Minestrone Soup, Crab Ravioli, Ebi Tem...   \n",
       "3  73.897714  Trois Chocolat, Chocolate Flan, Mille Feuille,...   \n",
       "4  73.886621  Bun Paratha, Pallipalayam Kozhi, Palm Sugar, V...   \n",
       "\n",
       "                                          Known_for2  \n",
       "0  Nothing to Dislike, Healthy Menu, Healthy Food...  \n",
       "1  Classy Place, Classy Ambience, Perfect Evening...  \n",
       "2  Classy Place, Quality of Food, Amazing Interio...  \n",
       "3  Bookshelf, Beautiful Cafe, Pretty Ambience, Pe...  \n",
       "4  Sophisticated, Worth the Price, Warm Ambience,...  "
      ]
     },
     "execution_count": 122,
     "metadata": {},
     "output_type": "execute_result"
    }
   ],
   "source": [
    "zomato_pune.head() # prints the first N rows of a DataFrame"
   ]
  },
  {
   "cell_type": "code",
   "execution_count": 123,
   "id": "e71c450a",
   "metadata": {},
   "outputs": [
    {
     "data": {
      "text/plain": [
       "0"
      ]
     },
     "execution_count": 123,
     "metadata": {},
     "output_type": "execute_result"
    }
   ],
   "source": [
    "zomato_data.duplicated().sum()\n"
   ]
  },
  {
   "cell_type": "code",
   "execution_count": 124,
   "id": "63be2685",
   "metadata": {},
   "outputs": [],
   "source": [
    "zomato_data.drop_duplicates(inplace=True)"
   ]
  },
  {
   "cell_type": "code",
   "execution_count": 125,
   "id": "ce572070",
   "metadata": {},
   "outputs": [
    {
     "name": "stdout",
     "output_type": "stream",
     "text": [
      "<class 'pandas.core.frame.DataFrame'>\n",
      "Int64Index: 4155 entries, 0 to 4796\n",
      "Data columns (total 6 columns):\n",
      " #   Column               Non-Null Count  Dtype  \n",
      "---  ------               --------------  -----  \n",
      " 0   Restaurant_Name      4155 non-null   object \n",
      " 1   Pricing_for_2        4155 non-null   int64  \n",
      " 2   Locality             4155 non-null   object \n",
      " 3   Dining_Rating        4155 non-null   float64\n",
      " 4   Dining_Review_Count  4155 non-null   int64  \n",
      " 5   Known_for1           4155 non-null   object \n",
      "dtypes: float64(1), int64(2), object(3)\n",
      "memory usage: 227.2+ KB\n"
     ]
    }
   ],
   "source": [
    "#Removing the NaN values from the dataset\n",
    "zomato_data.isnull().sum()\n",
    "zomato_data.dropna(how='any',inplace=True)\n",
    "zomato_data.info()"
   ]
  },
  {
   "cell_type": "code",
   "execution_count": 126,
   "id": "59b53075",
   "metadata": {},
   "outputs": [],
   "source": [
    "pune_restaurants = zomato_data.rename(columns={'Pricing_for_2':'Price','Dining_Rating':'Ratings','Dining_Review_Count':'Total_Reviews','Known_for1':'Best_Dishes'})"
   ]
  },
  {
   "cell_type": "code",
   "execution_count": 127,
   "id": "b860ebe5",
   "metadata": {},
   "outputs": [
    {
     "data": {
      "text/plain": [
       "Index(['Restaurant_Name', 'Price', 'Locality', 'Ratings', 'Total_Reviews',\n",
       "       'Best_Dishes'],\n",
       "      dtype='object')"
      ]
     },
     "execution_count": 127,
     "metadata": {},
     "output_type": "execute_result"
    }
   ],
   "source": [
    "pune_restaurants.columns"
   ]
  },
  {
   "cell_type": "code",
   "execution_count": 128,
   "id": "304763c7",
   "metadata": {},
   "outputs": [
    {
     "name": "stdout",
     "output_type": "stream",
     "text": [
      "<class 'pandas.core.frame.DataFrame'>\n",
      "Int64Index: 4155 entries, 0 to 4796\n",
      "Data columns (total 7 columns):\n",
      " #   Column           Non-Null Count  Dtype  \n",
      "---  ------           --------------  -----  \n",
      " 0   Restaurant_Name  4155 non-null   object \n",
      " 1   Price            4155 non-null   object \n",
      " 2   Locality         4155 non-null   object \n",
      " 3   Ratings          4155 non-null   float64\n",
      " 4   Total_Reviews    4155 non-null   int64  \n",
      " 5   Best_Dishes      4155 non-null   object \n",
      " 6   cost             4155 non-null   float64\n",
      "dtypes: float64(2), int64(1), object(4)\n",
      "memory usage: 259.7+ KB\n"
     ]
    }
   ],
   "source": [
    "pune_restaurants['Price'] = pune_restaurants['Price'].astype(str) \n",
    "pune_restaurants['Price'] = pune_restaurants['Price'].apply(lambda x: x.replace(',','.'))\n",
    "pune_restaurants['cost'] = pune_restaurants['Price'].astype(float) \n",
    "pune_restaurants.info()"
   ]
  },
  {
   "cell_type": "code",
   "execution_count": 129,
   "id": "45a56695",
   "metadata": {},
   "outputs": [
    {
     "data": {
      "text/plain": [
       "array([4.9, 4.8, 4.7, 4.6, 4.5, 4.4, 4.3, 4.2, 4.1, 4. , 3.9, 3.8, 3.7,\n",
       "       3.6, 3.5, 3.4, 3.3, 3.2, 3.1, 3. ])"
      ]
     },
     "execution_count": 129,
     "metadata": {},
     "output_type": "execute_result"
    }
   ],
   "source": [
    "pune_restaurants['Ratings'].unique()"
   ]
  },
  {
   "cell_type": "code",
   "execution_count": 130,
   "id": "4383dcee",
   "metadata": {},
   "outputs": [
    {
     "data": {
      "text/plain": [
       "Restaurant_Name    0\n",
       "Price              0\n",
       "Locality           0\n",
       "Ratings            0\n",
       "Total_Reviews      0\n",
       "Best_Dishes        0\n",
       "cost               0\n",
       "dtype: int64"
      ]
     },
     "execution_count": 130,
     "metadata": {},
     "output_type": "execute_result"
    }
   ],
   "source": [
    "pune_restaurants.isnull().sum()"
   ]
  },
  {
   "cell_type": "code",
   "execution_count": 131,
   "id": "90a8d071",
   "metadata": {},
   "outputs": [],
   "source": [
    "## Computing Mean Rating\n",
    "restaurants = list(pune_restaurants['Restaurant_Name'].unique())\n",
    "pune_restaurants['Mean Rating'] = 0\n",
    "\n",
    "for i in range(len(restaurants)):\n",
    "    pune_restaurants['Mean Rating'][pune_restaurants['Restaurant_Name'] == restaurants[i]] = pune_restaurants['Ratings'][pune_restaurants['Restaurant_Name'] == restaurants[i]].mean()\n",
    "    \n",
    "from sklearn.preprocessing import MinMaxScaler\n",
    "scaler = MinMaxScaler(feature_range = (1,5))\n",
    "pune_restaurants[['Mean Rating']] = scaler.fit_transform(pune_restaurants[['Mean Rating']]).round(2)"
   ]
  },
  {
   "cell_type": "markdown",
   "id": "9ec6da57",
   "metadata": {},
   "source": [
    "# TDF-IDF Vectorization"
   ]
  },
  {
   "cell_type": "code",
   "execution_count": 132,
   "id": "c6bdad40",
   "metadata": {},
   "outputs": [],
   "source": [
    "import pandas\n",
    "\n",
    "df_percent = pune_restaurants.sample(frac=0.6)"
   ]
  },
  {
   "cell_type": "code",
   "execution_count": 133,
   "id": "21249935",
   "metadata": {},
   "outputs": [
    {
     "data": {
      "text/plain": [
       "(2078, 8)"
      ]
     },
     "execution_count": 133,
     "metadata": {},
     "output_type": "execute_result"
    }
   ],
   "source": [
    "df_percent.shape"
   ]
  },
  {
   "cell_type": "code",
   "execution_count": 134,
   "id": "154ca453",
   "metadata": {},
   "outputs": [],
   "source": [
    "df_percent.set_index('Restaurant_Name', inplace=True)\n",
    "indices = pd.Series(df_percent.index)\n",
    "\n",
    "# Creating tf-idf matrix\n",
    "tfidf = TfidfVectorizer(analyzer='word', ngram_range=(1, 2), min_df=0, stop_words='english')\n",
    "tfidf_matrix = tfidf.fit_transform(df_percent['Best_Dishes'])\n",
    "\n",
    "cosine_similarities = linear_kernel(tfidf_matrix, tfidf_matrix)"
   ]
  },
  {
   "cell_type": "markdown",
   "id": "5602037b",
   "metadata": {},
   "source": [
    "# Recommendation _System"
   ]
  },
  {
   "cell_type": "code",
   "execution_count": 135,
   "id": "cd92f7aa",
   "metadata": {},
   "outputs": [],
   "source": [
    "def recommend(name, cosine_similarities = cosine_similarities):\n",
    "    \n",
    "    # Create a list to put top restaurants\n",
    "    recommend_restaurant = []\n",
    "    \n",
    "    # Find the index of the hotel entered\n",
    "    idx = indices[indices == name].index[0]\n",
    "    \n",
    "    # Find the restaurants with a similar cosine-sim value and order them from biggest number\n",
    "    score_series = pd.Series(cosine_similarities[idx]).sort_values(ascending=False)\n",
    "    \n",
    "    # Extract top 20 restaurant indexes with a similar cosine-sim value\n",
    "    top20_indexes = list(score_series.iloc[0:21].index)\n",
    "    \n",
    "    # Names of the top 20 restaurants\n",
    "    for each in top20_indexes:\n",
    "        recommend_restaurant.append(list(df_percent.index)[each])\n",
    "    \n",
    "    # Creating the new data set to show similar restaurants\n",
    "    df_new = pd.DataFrame(columns=['Best_Dishes', 'Mean Rating', 'Price','Locality'])\n",
    "    \n",
    "    # Create the top 20 similar restaurants with some of their columns\n",
    "    for each in recommend_restaurant:\n",
    "            df_new = df_new.append(pd.DataFrame(df_percent[['Best_Dishes','Mean Rating', 'Price','Locality']][df_percent.index == each].sample()))\n",
    "    \n",
    "    # Drop the same named restaurants and sort only the top 10 by the highest rating\n",
    "    df_new = df_new.drop_duplicates(subset=['Best_Dishes','Mean Rating', 'Locality'], keep=False)\n",
    "    df_new = df_new.sort_values(by='Mean Rating', ascending=False).head(10)\n",
    "    \n",
    "    print('TOP %s RESTAURANTS LIKE %s WITH SIMILAR REVIEWS ARE: ' % (str(len(df_new)), name))\n",
    "    \n",
    "    return df_new"
   ]
  },
  {
   "cell_type": "code",
   "execution_count": 136,
   "id": "fe38833b",
   "metadata": {},
   "outputs": [
    {
     "data": {
      "text/html": [
       "<div>\n",
       "<style scoped>\n",
       "    .dataframe tbody tr th:only-of-type {\n",
       "        vertical-align: middle;\n",
       "    }\n",
       "\n",
       "    .dataframe tbody tr th {\n",
       "        vertical-align: top;\n",
       "    }\n",
       "\n",
       "    .dataframe thead th {\n",
       "        text-align: right;\n",
       "    }\n",
       "</style>\n",
       "<table border=\"1\" class=\"dataframe\">\n",
       "  <thead>\n",
       "    <tr style=\"text-align: right;\">\n",
       "      <th></th>\n",
       "      <th>Price</th>\n",
       "      <th>Locality</th>\n",
       "      <th>Ratings</th>\n",
       "      <th>Total_Reviews</th>\n",
       "      <th>Best_Dishes</th>\n",
       "      <th>cost</th>\n",
       "      <th>Mean Rating</th>\n",
       "    </tr>\n",
       "    <tr>\n",
       "      <th>Restaurant_Name</th>\n",
       "      <th></th>\n",
       "      <th></th>\n",
       "      <th></th>\n",
       "      <th></th>\n",
       "      <th></th>\n",
       "      <th></th>\n",
       "      <th></th>\n",
       "    </tr>\n",
       "  </thead>\n",
       "  <tbody>\n",
       "    <tr>\n",
       "      <th>Gong</th>\n",
       "      <td>1700</td>\n",
       "      <td>Balewadi High Street, Baner, Pune</td>\n",
       "      <td>4.9</td>\n",
       "      <td>1788</td>\n",
       "      <td>Chicken Minestrone Soup, Crab Ravioli, Ebi Tem...</td>\n",
       "      <td>1700.0</td>\n",
       "      <td>5.0</td>\n",
       "    </tr>\n",
       "  </tbody>\n",
       "</table>\n",
       "</div>"
      ],
      "text/plain": [
       "                Price                            Locality  Ratings  \\\n",
       "Restaurant_Name                                                      \n",
       "Gong             1700   Balewadi High Street, Baner, Pune      4.9   \n",
       "\n",
       "                 Total_Reviews  \\\n",
       "Restaurant_Name                  \n",
       "Gong                      1788   \n",
       "\n",
       "                                                       Best_Dishes    cost  \\\n",
       "Restaurant_Name                                                              \n",
       "Gong             Chicken Minestrone Soup, Crab Ravioli, Ebi Tem...  1700.0   \n",
       "\n",
       "                 Mean Rating  \n",
       "Restaurant_Name               \n",
       "Gong                     5.0  "
      ]
     },
     "execution_count": 136,
     "metadata": {},
     "output_type": "execute_result"
    }
   ],
   "source": [
    "df_percent[df_percent.index == 'Gong'].head()"
   ]
  },
  {
   "cell_type": "code",
   "execution_count": 138,
   "id": "8f9eb1d8",
   "metadata": {},
   "outputs": [
    {
     "name": "stdout",
     "output_type": "stream",
     "text": [
      "TOP 10 RESTAURANTS LIKE Gong WITH SIMILAR REVIEWS ARE: \n"
     ]
    },
    {
     "data": {
      "text/html": [
       "<div>\n",
       "<style scoped>\n",
       "    .dataframe tbody tr th:only-of-type {\n",
       "        vertical-align: middle;\n",
       "    }\n",
       "\n",
       "    .dataframe tbody tr th {\n",
       "        vertical-align: top;\n",
       "    }\n",
       "\n",
       "    .dataframe thead th {\n",
       "        text-align: right;\n",
       "    }\n",
       "</style>\n",
       "<table border=\"1\" class=\"dataframe\">\n",
       "  <thead>\n",
       "    <tr style=\"text-align: right;\">\n",
       "      <th></th>\n",
       "      <th>Best_Dishes</th>\n",
       "      <th>Mean Rating</th>\n",
       "      <th>Price</th>\n",
       "      <th>Locality</th>\n",
       "    </tr>\n",
       "  </thead>\n",
       "  <tbody>\n",
       "    <tr>\n",
       "      <th>Gong</th>\n",
       "      <td>Chicken Minestrone Soup, Crab Ravioli, Ebi Tem...</td>\n",
       "      <td>5.0</td>\n",
       "      <td>1700</td>\n",
       "      <td>Balewadi High Street, Baner, Pune</td>\n",
       "    </tr>\n",
       "    <tr>\n",
       "      <th>Pune Baking Company - JW Marriott Pune</th>\n",
       "      <td>Grand Cru Marquise, Chocolate Feuillant, Cinna...</td>\n",
       "      <td>4.58</td>\n",
       "      <td>700</td>\n",
       "      <td>JW Marriott Pune, Senapati Bapat Road, Pune</td>\n",
       "    </tr>\n",
       "    <tr>\n",
       "      <th>I'm Lion, Strictly Non-Veg</th>\n",
       "      <td>Chicken Sagoti, Chocolate Mud Pie, Chicken Caf...</td>\n",
       "      <td>4.16</td>\n",
       "      <td>800</td>\n",
       "      <td>Bavdhan, Pune</td>\n",
       "    </tr>\n",
       "    <tr>\n",
       "      <th>Little Italy</th>\n",
       "      <td>Berry Cheese Cake, Chocolate Icecreams, Choco ...</td>\n",
       "      <td>4.16</td>\n",
       "      <td>1500</td>\n",
       "      <td>Shivaji Nagar, Pune</td>\n",
       "    </tr>\n",
       "    <tr>\n",
       "      <th>Kargo</th>\n",
       "      <td>Gurkha Chicken, Pattaya Curry, Chocolate Spher...</td>\n",
       "      <td>4.16</td>\n",
       "      <td>1200</td>\n",
       "      <td>Koregaon Park, Pune</td>\n",
       "    </tr>\n",
       "    <tr>\n",
       "      <th>Viman Nagar Social</th>\n",
       "      <td>School Chicken Tikka, Multani Mushroom, Goan P...</td>\n",
       "      <td>4.16</td>\n",
       "      <td>1500</td>\n",
       "      <td>Phoenix Market City, Viman Nagar, Pune</td>\n",
       "    </tr>\n",
       "    <tr>\n",
       "      <th>Mr Rabbit's Bar &amp; Burrow</th>\n",
       "      <td>Murgh Ghee Roast, Spinach Ravioli, Rabbit, Per...</td>\n",
       "      <td>4.16</td>\n",
       "      <td>1900</td>\n",
       "      <td>Baner, Pune</td>\n",
       "    </tr>\n",
       "    <tr>\n",
       "      <th>The Daily All Day</th>\n",
       "      <td>Drunken Prawns, Whiskey Cocktail, Mushroom Cro...</td>\n",
       "      <td>4.16</td>\n",
       "      <td>2000</td>\n",
       "      <td>Koregaon Park, Pune</td>\n",
       "    </tr>\n",
       "    <tr>\n",
       "      <th>Where Else Diner</th>\n",
       "      <td>Spinach Cannelloni, Bacon Omelette, Rich Choco...</td>\n",
       "      <td>3.95</td>\n",
       "      <td>800</td>\n",
       "      <td>Viman Nagar, Pune</td>\n",
       "    </tr>\n",
       "    <tr>\n",
       "      <th>Soy Affair</th>\n",
       "      <td>Garlic Butter Noodle, Peppery Lemon Soup, Chic...</td>\n",
       "      <td>3.74</td>\n",
       "      <td>700</td>\n",
       "      <td>Aundh, Pune</td>\n",
       "    </tr>\n",
       "  </tbody>\n",
       "</table>\n",
       "</div>"
      ],
      "text/plain": [
       "                                                                              Best_Dishes  \\\n",
       "Gong                                    Chicken Minestrone Soup, Crab Ravioli, Ebi Tem...   \n",
       "Pune Baking Company - JW Marriott Pune  Grand Cru Marquise, Chocolate Feuillant, Cinna...   \n",
       "I'm Lion, Strictly Non-Veg              Chicken Sagoti, Chocolate Mud Pie, Chicken Caf...   \n",
       "Little Italy                            Berry Cheese Cake, Chocolate Icecreams, Choco ...   \n",
       "Kargo                                   Gurkha Chicken, Pattaya Curry, Chocolate Spher...   \n",
       "Viman Nagar Social                      School Chicken Tikka, Multani Mushroom, Goan P...   \n",
       "Mr Rabbit's Bar & Burrow                Murgh Ghee Roast, Spinach Ravioli, Rabbit, Per...   \n",
       "The Daily All Day                       Drunken Prawns, Whiskey Cocktail, Mushroom Cro...   \n",
       "Where Else Diner                        Spinach Cannelloni, Bacon Omelette, Rich Choco...   \n",
       "Soy Affair                              Garlic Butter Noodle, Peppery Lemon Soup, Chic...   \n",
       "\n",
       "                                       Mean Rating Price  \\\n",
       "Gong                                           5.0  1700   \n",
       "Pune Baking Company - JW Marriott Pune        4.58   700   \n",
       "I'm Lion, Strictly Non-Veg                    4.16   800   \n",
       "Little Italy                                  4.16  1500   \n",
       "Kargo                                         4.16  1200   \n",
       "Viman Nagar Social                            4.16  1500   \n",
       "Mr Rabbit's Bar & Burrow                      4.16  1900   \n",
       "The Daily All Day                             4.16  2000   \n",
       "Where Else Diner                              3.95   800   \n",
       "Soy Affair                                    3.74   700   \n",
       "\n",
       "                                                                            Locality  \n",
       "Gong                                               Balewadi High Street, Baner, Pune  \n",
       "Pune Baking Company - JW Marriott Pune   JW Marriott Pune, Senapati Bapat Road, Pune  \n",
       "I'm Lion, Strictly Non-Veg                                             Bavdhan, Pune  \n",
       "Little Italy                                                     Shivaji Nagar, Pune  \n",
       "Kargo                                                            Koregaon Park, Pune  \n",
       "Viman Nagar Social                            Phoenix Market City, Viman Nagar, Pune  \n",
       "Mr Rabbit's Bar & Burrow                                                 Baner, Pune  \n",
       "The Daily All Day                                                Koregaon Park, Pune  \n",
       "Where Else Diner                                                   Viman Nagar, Pune  \n",
       "Soy Affair                                                               Aundh, Pune  "
      ]
     },
     "execution_count": 138,
     "metadata": {},
     "output_type": "execute_result"
    }
   ],
   "source": [
    "recommend('Gong')"
   ]
  },
  {
   "cell_type": "code",
   "execution_count": null,
   "id": "1d2c9582",
   "metadata": {},
   "outputs": [],
   "source": []
  },
  {
   "cell_type": "code",
   "execution_count": null,
   "id": "24517732",
   "metadata": {},
   "outputs": [],
   "source": []
  }
 ],
 "metadata": {
  "kernelspec": {
   "display_name": "Python 3 (ipykernel)",
   "language": "python",
   "name": "python3"
  },
  "language_info": {
   "codemirror_mode": {
    "name": "ipython",
    "version": 3
   },
   "file_extension": ".py",
   "mimetype": "text/x-python",
   "name": "python",
   "nbconvert_exporter": "python",
   "pygments_lexer": "ipython3",
   "version": "3.9.12"
  }
 },
 "nbformat": 4,
 "nbformat_minor": 5
}
